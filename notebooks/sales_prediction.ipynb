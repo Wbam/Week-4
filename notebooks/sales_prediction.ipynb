{
 "cells": [
  {
   "cell_type": "code",
   "execution_count": 8,
   "metadata": {},
   "outputs": [],
   "source": [
    "import pandas as pd\n",
    "import numpy as np\n",
    "from sklearn.preprocessing import StandardScaler\n",
    "from datetime import datetime, timedelta\n",
    "# Load the merged cleaned data from Task 1\n",
    "data = pd.read_csv('C:/Users/User/Desktop/Week-4/notebooks/cleaned_data.csv') \n"
   ]
  },
  {
   "cell_type": "code",
   "execution_count": 11,
   "metadata": {},
   "outputs": [],
   "source": [
    "\n",
    "# Convert date column to datetime format\n",
    "data['Date'] = pd.to_datetime(data['Date'])\n",
    "# Feature extraction# Feature extraction\n",
    "data['Weekday'] = data['Date'].dt.weekday\n",
    "data['Weekend'] = data['Weekday'].apply(lambda x: 1 if x >= 5 else 0)\n",
    "data['Days_to_Holiday'] = (data['Date'].dt.to_period('M').dt.days_in_month - data['Date'].dt.day)\n",
    "data['Days_after_Holiday'] = (data['Date'].dt.day - data['Date'].dt.to_period('M').dt.days_in_month)\n",
    "data['Is_Beginning_Month'] = data['Date'].dt.day.apply(lambda x: 1 if x <= 10 else 0)\n",
    "data['Is_Mid_Month'] = data['Date'].dt.day.apply(lambda x: 1 if 11 <= x <= 20 else 0)\n",
    "data['Is_End_Month'] = data['Date'].dt.day.apply(lambda x: 1 if x > 20 else 0)\n",
    "\n",
    "# Handle NaN values (simple forward fill, can be adjusted)\n",
    "data.fillna(method='ffill', inplace=True)\n",
    "\n",
    "# Scale numeric features\n",
    "features = data[['Weekday', 'Weekend', 'Days_to_Holiday', 'Days_after_Holiday', 'Is_Beginning_Month', \n",
    "                 'Is_Mid_Month', 'Is_End_Month', 'Promo', 'Customers']]\n",
    "target = data['Sales']\n",
    "\n",
    "scaler = StandardScaler()\n",
    "features_scaled = scaler.fit_transform(features)\n"
   ]
  }
 ],
 "metadata": {
  "kernelspec": {
   "display_name": "Python 3",
   "language": "python",
   "name": "python3"
  },
  "language_info": {
   "codemirror_mode": {
    "name": "ipython",
    "version": 3
   },
   "file_extension": ".py",
   "mimetype": "text/x-python",
   "name": "python",
   "nbconvert_exporter": "python",
   "pygments_lexer": "ipython3",
   "version": "3.10.5"
  }
 },
 "nbformat": 4,
 "nbformat_minor": 2
}
